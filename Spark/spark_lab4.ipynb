{
 "cells": [
  {
   "cell_type": "code",
   "execution_count": 0,
   "metadata": {
    "autoscroll": "auto"
   },
   "outputs": [
    {
     "name": "stdout",
     "output_type": "stream",
     "text": [
      "<console>:5: error: object zeppelin is not a member of package org.apache\n  var value: org.apache.zeppelin.spark.SparkZeppelinContext = _\n                        ^\n<console>:6: error: object zeppelin is not a member of package org.apache\n  def set(x: Any) = value = x.asInstanceOf[org.apache.zeppelin.spark.SparkZeppelinContext]\n                                                      ^\n"
     ]
    }
   ],
   "source": [
    "%pyspark\n",
    "fares_count = spark.read.parquet('/education/ece/big-data/2020/fall/bda/gr2/loic/spark-lab4/output/fares_metrics')\n",
    "z.show(fares_count)"
   ]
  },
  {
   "cell_type": "code",
   "execution_count": 1,
   "metadata": {
    "autoscroll": "auto"
   },
   "outputs": [
    {
     "name": "stdout",
     "output_type": "stream",
     "text": []
    }
   ],
   "source": [
    "%pyspark\n"
   ]
  }
 ],
 "metadata": {
  "kernelspec": {
   "display_name": "Spark 2.0.0",
   "language": "python",
   "name": "spark2"
  },
  "language_info": {
   "codemirror_mode": "text/python",
   "file_extension": ".py",
   "mimetype": "text/python",
   "name": "scala",
   "pygments_lexer": "python",
   "version": "3.6"
  }
 },
 "nbformat": 4,
 "nbformat_minor": 2
}
